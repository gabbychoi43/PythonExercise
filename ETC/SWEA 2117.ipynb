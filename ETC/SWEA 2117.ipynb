{
 "cells": [
  {
   "cell_type": "code",
   "execution_count": 1,
   "metadata": {},
   "outputs": [
    {
     "ename": "SyntaxError",
     "evalue": "invalid syntax (<ipython-input-1-e309625e56ef>, line 1)",
     "output_type": "error",
     "traceback": [
      "\u001b[1;36m  File \u001b[1;32m\"<ipython-input-1-e309625e56ef>\"\u001b[1;36m, line \u001b[1;32m1\u001b[0m\n\u001b[1;33m    //홈 방범 서비스\u001b[0m\n\u001b[1;37m     ^\u001b[0m\n\u001b[1;31mSyntaxError\u001b[0m\u001b[1;31m:\u001b[0m invalid syntax\n"
     ]
    }
   ],
   "source": [
    "//홈 방범 서비스\n",
    "#include<iostream>\n",
    "#include<queue>\n",
    "#include<algorithm>\n",
    "using namespace std;\n",
    "\n",
    "int N, M, ans;\n",
    "int map[20][20] = { 0, };\n",
    "int cost[22];//K의 값이 N+1 이상일 때 모든 집을 방문할 수 있다.\n",
    "bool visited[20][20] = { false, };\n",
    "queue<pair<int, int>> q;\n",
    "\n",
    "int dy[] = { 0,+1,0,-1 };//시계방향\n",
    "int dx[] = { +1,0,-1,0 };\n",
    "\n",
    "void bfs(int y, int x) {\n",
    "\n",
    "    int k = 1;\n",
    "    q.push({ y,x });\n",
    "    visited[y][x] = true;\n",
    "    int home = map[y][x];\n",
    "\n",
    "    while (k <= N + 1) {\n",
    "\n",
    "        if (((home * M) - cost[k]) >= 0) {\n",
    "            ans = max(ans, home);\n",
    "        }\n",
    "\n",
    "        int siz = q.size();\n",
    "        for (int i = 0; i < siz; i++) {\n",
    "            int a = q.front().first;\n",
    "            int b = q.front().second;\n",
    "            q.pop();\n",
    "\n",
    "            for (int z = 0; z < 4; z++) {\n",
    "                int na = a + dy[z];\n",
    "                int nb = b + dx[z];\n",
    "\n",
    "                if (na < 0 || nb < 0 || na >= N || nb >= N || visited[na][nb]) continue;\n",
    "            \n",
    "                visited[na][nb] = true;\n",
    "                q.push({ na,nb });\n",
    "                if (map[na][nb]) home++;\n",
    "            }\n",
    "        }\n",
    "        k++;\n",
    "    }\n",
    "    while (!q.empty()) q.pop();\n",
    "}\n",
    "\n",
    "int main() {\n",
    "    int T;\n",
    "    cin >> T;\n",
    "    for (int test_case = 1; test_case <= T; test_case++) {\n",
    "        cin >> N >> M;\n",
    "        ans = -(2e9);\n",
    "\n",
    "        for (int i = 0; i < N; i++) {\n",
    "            for (int j = 0; j < N; j++) {\n",
    "                cin >> map[i][j];\n",
    "            }\n",
    "        }\n",
    "\n",
    "        for (int k = 1; k <= 21; k++) {\n",
    "            cost[k] = pow(k, 2) + pow(k - 1, 2);\n",
    "        }//모든 운영비용 계산\n",
    "\n",
    "        for (int i = 0; i < N; i++) {\n",
    "            for (int j = 0; j < N; j++) {\n",
    "                memset(visited, false, sizeof(visited));\n",
    "                bfs(i, j);\n",
    "            }\n",
    "        }//모든 정점에 대해 검사\n",
    "\n",
    "        cout << \"#\" << test_case << ' ' << ans << '\\n';\n",
    "    }\n",
    "    return 0;//정상종료\n",
    "}"
   ]
  },
  {
   "cell_type": "code",
   "execution_count": null,
   "metadata": {},
   "outputs": [],
   "source": []
  },
  {
   "cell_type": "code",
   "execution_count": null,
   "metadata": {},
   "outputs": [],
   "source": []
  },
  {
   "cell_type": "code",
   "execution_count": null,
   "metadata": {},
   "outputs": [],
   "source": []
  }
 ],
 "metadata": {
  "kernelspec": {
   "display_name": "Python 3",
   "language": "python",
   "name": "python3"
  },
  "language_info": {
   "codemirror_mode": {
    "name": "ipython",
    "version": 3
   },
   "file_extension": ".py",
   "mimetype": "text/x-python",
   "name": "python",
   "nbconvert_exporter": "python",
   "pygments_lexer": "ipython3",
   "version": "3.7.6"
  }
 },
 "nbformat": 4,
 "nbformat_minor": 4
}
