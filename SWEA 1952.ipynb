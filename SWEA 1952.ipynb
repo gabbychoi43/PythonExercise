{
 "cells": [
  {
   "cell_type": "markdown",
   "metadata": {},
   "source": [
    "## Link  https://swexpertacademy.com/main/code/problem/problemDetail.do?contestProbId=AV5PpFQaAQMDFAUq&\n",
    "\n",
    "## DP 를 이용한 풀이\n",
    "\n",
    "## idea \n",
    "1. 각 월마다 일일사용권, 월별사용권을 최솟값을 저장한다.\n",
    "2. 각 월마다 최솟값을 합을 순차적으로 합해가며 3개월분과의 차이를 비교해 작은값을 저장한다.\n",
    "3. 이렇게 나온 최솟값을 마지막으로 1년 이용금액 값과 비교한다."
   ]
  },
  {
   "cell_type": "code",
   "execution_count": null,
   "metadata": {},
   "outputs": [],
   "source": [
    "\n",
    "T = int(input())\n",
    "\n",
    "for test_case in range(1, T + 1):\n",
    "    l=[0 for i in range(13)] # 각 월마다 최솟값을 저장할 배열\n",
    "    low=l.copy() # 각 월까지의 최솟값을 저장할 배열\n",
    "    Price=[int(i) for i in input().split()] # 각각 일, 월, 분기, 연별로 가격 저장\n",
    "    Numbers=[int(i) for i in input().split()] # 첫번째를 제외하고 각각 월별 출석횟수 저장\n",
    "    Numbers.insert(0,0)\n",
    "    \n",
    "    for i in range(1,13) :\n",
    "        l[i]=(min(Numbers[i]*Price[0],Price[1]))\n",
    "        # 월별로 일, 월이용금액중 작은 값을 저장\n",
    "    \n",
    "    for i in range(1,13) :\n",
    "        low[i]=(low[i-1]+l[i])\n",
    "        if i-3>=0 :\n",
    "            low[i]=(min(low[i],low[i-3]+Price[2]))\n",
    "            # 세번째부터 그 이전 세달을 제외한 값과 세달치 금액의 합과  일,월별 합계의 합을 비교함.\n",
    "            # 0번째 위치에 앞의 0 을 padding 한 이유.\n",
    "            # low 에는 각 개월마다의 최솟값이 저장됨 \n",
    "    \n",
    "    if low[12]>Price[3] :\n",
    "        low[12]=Price[3]\n",
    "        #이렇게 해서 나온 값을 최종적으로 1년 사용권과 비교한 뒤 최솟값 저장. \n",
    "    print('#{}'.format(test_case),low[12])                       \n",
    "                        \n"
   ]
  },
  {
   "cell_type": "code",
   "execution_count": 1,
   "metadata": {},
   "outputs": [
    {
     "ename": "SyntaxError",
     "evalue": "invalid syntax (<ipython-input-1-98adcba3434d>, line 1)",
     "output_type": "error",
     "traceback": [
      "\u001b[1;36m  File \u001b[1;32m\"<ipython-input-1-98adcba3434d>\"\u001b[1;36m, line \u001b[1;32m1\u001b[0m\n\u001b[1;33m    git remote add origin https://github.com/gabbychoi43/PythonExercise.git\u001b[0m\n\u001b[1;37m             ^\u001b[0m\n\u001b[1;31mSyntaxError\u001b[0m\u001b[1;31m:\u001b[0m invalid syntax\n"
     ]
    }
   ],
   "source": [
    "git remote add origin https://github.com/gabbychoi43/PythonExercise.git"
   ]
  },
  {
   "cell_type": "code",
   "execution_count": null,
   "metadata": {},
   "outputs": [],
   "source": []
  }
 ],
 "metadata": {
  "kernelspec": {
   "display_name": "Python 3",
   "language": "python",
   "name": "python3"
  },
  "language_info": {
   "codemirror_mode": {
    "name": "ipython",
    "version": 3
   },
   "file_extension": ".py",
   "mimetype": "text/x-python",
   "name": "python",
   "nbconvert_exporter": "python",
   "pygments_lexer": "ipython3",
   "version": "3.7.4"
  }
 },
 "nbformat": 4,
 "nbformat_minor": 2
}
